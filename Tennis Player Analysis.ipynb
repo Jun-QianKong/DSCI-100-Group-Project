{
 "cells": [
  {
   "cell_type": "code",
   "execution_count": 2,
   "metadata": {},
   "outputs": [
    {
     "name": "stderr",
     "output_type": "stream",
     "text": [
      "── \u001b[1mAttaching packages\u001b[22m ─────────────────────────────────────── tidyverse 1.3.0 ──\n",
      "\n",
      "\u001b[32m✔\u001b[39m \u001b[34mggplot2\u001b[39m 3.3.2     \u001b[32m✔\u001b[39m \u001b[34mpurrr  \u001b[39m 0.3.4\n",
      "\u001b[32m✔\u001b[39m \u001b[34mtibble \u001b[39m 3.0.3     \u001b[32m✔\u001b[39m \u001b[34mdplyr  \u001b[39m 1.0.2\n",
      "\u001b[32m✔\u001b[39m \u001b[34mtidyr  \u001b[39m 1.1.2     \u001b[32m✔\u001b[39m \u001b[34mstringr\u001b[39m 1.4.0\n",
      "\u001b[32m✔\u001b[39m \u001b[34mreadr  \u001b[39m 1.3.1     \u001b[32m✔\u001b[39m \u001b[34mforcats\u001b[39m 0.5.0\n",
      "\n",
      "Warning message:\n",
      "“package ‘ggplot2’ was built under R version 4.0.1”\n",
      "Warning message:\n",
      "“package ‘tibble’ was built under R version 4.0.2”\n",
      "Warning message:\n",
      "“package ‘tidyr’ was built under R version 4.0.2”\n",
      "Warning message:\n",
      "“package ‘dplyr’ was built under R version 4.0.2”\n",
      "── \u001b[1mConflicts\u001b[22m ────────────────────────────────────────── tidyverse_conflicts() ──\n",
      "\u001b[31m✖\u001b[39m \u001b[34mdplyr\u001b[39m::\u001b[32mfilter()\u001b[39m masks \u001b[34mstats\u001b[39m::filter()\n",
      "\u001b[31m✖\u001b[39m \u001b[34mdplyr\u001b[39m::\u001b[32mlag()\u001b[39m    masks \u001b[34mstats\u001b[39m::lag()\n",
      "\n"
     ]
    }
   ],
   "source": [
    "library(tidyverse)\n",
    "library(repr)\n",
    "options(repr.matrix.max.rows = 6)"
   ]
  },
  {
   "cell_type": "markdown",
   "metadata": {},
   "source": [
    "# Activity #1: Explore Datasets - Preliminary\n",
    "\n",
    "### Questions:\n",
    "* What is the dataset about?\n",
    "* How many variables are there?\n",
    "* How many observations are there?"
   ]
  },
  {
   "cell_type": "code",
   "execution_count": 3,
   "metadata": {},
   "outputs": [
    {
     "data": {
      "text/html": [
       "<table>\n",
       "<caption>A data.frame: 500 × 38</caption>\n",
       "<thead>\n",
       "\t<tr><th scope=col>X</th><th scope=col>Age</th><th scope=col>Country</th><th scope=col>Plays</th><th scope=col>Wikipedia</th><th scope=col>Current.Rank</th><th scope=col>Best.Rank</th><th scope=col>Name</th><th scope=col>Backhand</th><th scope=col>Prize.Money</th><th scope=col>⋯</th><th scope=col>Facebook</th><th scope=col>Twitter</th><th scope=col>Nicknames</th><th scope=col>Grand.Slams</th><th scope=col>Davis.Cups</th><th scope=col>Web.Site</th><th scope=col>Team.Cups</th><th scope=col>Olympics</th><th scope=col>Weeks.at.No..1</th><th scope=col>Tour.Finals</th></tr>\n",
       "\t<tr><th scope=col>&lt;int&gt;</th><th scope=col>&lt;chr&gt;</th><th scope=col>&lt;chr&gt;</th><th scope=col>&lt;chr&gt;</th><th scope=col>&lt;chr&gt;</th><th scope=col>&lt;chr&gt;</th><th scope=col>&lt;chr&gt;</th><th scope=col>&lt;chr&gt;</th><th scope=col>&lt;chr&gt;</th><th scope=col>&lt;chr&gt;</th><th scope=col>⋯</th><th scope=col>&lt;chr&gt;</th><th scope=col>&lt;chr&gt;</th><th scope=col>&lt;chr&gt;</th><th scope=col>&lt;int&gt;</th><th scope=col>&lt;int&gt;</th><th scope=col>&lt;chr&gt;</th><th scope=col>&lt;int&gt;</th><th scope=col>&lt;int&gt;</th><th scope=col>&lt;int&gt;</th><th scope=col>&lt;int&gt;</th></tr>\n",
       "</thead>\n",
       "<tbody>\n",
       "\t<tr><td>0</td><td>26 (25-04-1993)</td><td>Brazil        </td><td>Right-handed</td><td>Wikipedia</td><td>378 (97) </td><td>363 (04-11-2019)</td><td>Oscar Jose Gutierrez</td><td>          </td><td>            </td><td>⋯</td><td></td><td></td><td></td><td>NA</td><td>NA</td><td></td><td>NA</td><td>NA</td><td>NA</td><td>NA</td></tr>\n",
       "\t<tr><td>1</td><td>18 (22-12-2001)</td><td>United Kingdom</td><td>Left-handed </td><td>Wikipedia</td><td>326 (119)</td><td>316 (14-10-2019)</td><td>Jack Draper         </td><td>Two-handed</td><td>$59,040     </td><td>⋯</td><td></td><td></td><td></td><td>NA</td><td>NA</td><td></td><td>NA</td><td>NA</td><td>NA</td><td>NA</td></tr>\n",
       "\t<tr><td>2</td><td>32 (03-11-1987)</td><td>Slovakia      </td><td>Right-handed</td><td>Wikipedia</td><td>178 (280)</td><td>44 (14-01-2013) </td><td>Lukas Lacko         </td><td>Two-handed</td><td>US$3,261,567</td><td>⋯</td><td></td><td></td><td></td><td>NA</td><td>NA</td><td></td><td>NA</td><td>NA</td><td>NA</td><td>NA</td></tr>\n",
       "\t<tr><td>⋮</td><td>⋮</td><td>⋮</td><td>⋮</td><td>⋮</td><td>⋮</td><td>⋮</td><td>⋮</td><td>⋮</td><td>⋮</td><td>⋱</td><td>⋮</td><td>⋮</td><td>⋮</td><td>⋮</td><td>⋮</td><td>⋮</td><td>⋮</td><td>⋮</td><td>⋮</td><td>⋮</td></tr>\n",
       "\t<tr><td>497</td><td>23 (14-03-1996)</td><td>Netherlands</td><td>Left-handed</td><td>Wikipedia</td><td>495 (60)</td><td>342 (05-08-2019)</td><td>Gijs Brouwer   </td><td>          </td><td>       </td><td>⋯</td><td></td><td></td><td></td><td>NA</td><td>NA</td><td></td><td>NA</td><td>NA</td><td>NA</td><td>NA</td></tr>\n",
       "\t<tr><td>498</td><td>24 (17-05-1995)</td><td>Ukraine    </td><td>           </td><td>Wikipedia</td><td>419 (81)</td><td>419 (20-01-2020)</td><td>Vladyslav Orlov</td><td>          </td><td>       </td><td>⋯</td><td></td><td></td><td></td><td>NA</td><td>NA</td><td></td><td>NA</td><td>NA</td><td>NA</td><td>NA</td></tr>\n",
       "\t<tr><td>499</td><td>22 (26-03-1997)</td><td>Tunisia    </td><td>Left-handed</td><td>Wikipedia</td><td>451 (69)</td><td>408 (24-12-2018)</td><td>Aziz Dougaz    </td><td>Two-handed</td><td>$61,984</td><td>⋯</td><td></td><td></td><td></td><td>NA</td><td>NA</td><td></td><td>NA</td><td>NA</td><td>NA</td><td>NA</td></tr>\n",
       "</tbody>\n",
       "</table>\n"
      ],
      "text/latex": [
       "A data.frame: 500 × 38\n",
       "\\begin{tabular}{lllllllllllllllllllll}\n",
       " X & Age & Country & Plays & Wikipedia & Current.Rank & Best.Rank & Name & Backhand & Prize.Money & ⋯ & Facebook & Twitter & Nicknames & Grand.Slams & Davis.Cups & Web.Site & Team.Cups & Olympics & Weeks.at.No..1 & Tour.Finals\\\\\n",
       " <int> & <chr> & <chr> & <chr> & <chr> & <chr> & <chr> & <chr> & <chr> & <chr> & ⋯ & <chr> & <chr> & <chr> & <int> & <int> & <chr> & <int> & <int> & <int> & <int>\\\\\n",
       "\\hline\n",
       "\t 0 & 26 (25-04-1993) & Brazil         & Right-handed & Wikipedia & 378 (97)  & 363 (04-11-2019) & Oscar Jose Gutierrez &            &              & ⋯ &  &  &  & NA & NA &  & NA & NA & NA & NA\\\\\n",
       "\t 1 & 18 (22-12-2001) & United Kingdom & Left-handed  & Wikipedia & 326 (119) & 316 (14-10-2019) & Jack Draper          & Two-handed & \\$59,040      & ⋯ &  &  &  & NA & NA &  & NA & NA & NA & NA\\\\\n",
       "\t 2 & 32 (03-11-1987) & Slovakia       & Right-handed & Wikipedia & 178 (280) & 44 (14-01-2013)  & Lukas Lacko          & Two-handed & US\\$3,261,567 & ⋯ &  &  &  & NA & NA &  & NA & NA & NA & NA\\\\\n",
       "\t ⋮ & ⋮ & ⋮ & ⋮ & ⋮ & ⋮ & ⋮ & ⋮ & ⋮ & ⋮ & ⋱ & ⋮ & ⋮ & ⋮ & ⋮ & ⋮ & ⋮ & ⋮ & ⋮ & ⋮ & ⋮\\\\\n",
       "\t 497 & 23 (14-03-1996) & Netherlands & Left-handed & Wikipedia & 495 (60) & 342 (05-08-2019) & Gijs Brouwer    &            &         & ⋯ &  &  &  & NA & NA &  & NA & NA & NA & NA\\\\\n",
       "\t 498 & 24 (17-05-1995) & Ukraine     &             & Wikipedia & 419 (81) & 419 (20-01-2020) & Vladyslav Orlov &            &         & ⋯ &  &  &  & NA & NA &  & NA & NA & NA & NA\\\\\n",
       "\t 499 & 22 (26-03-1997) & Tunisia     & Left-handed & Wikipedia & 451 (69) & 408 (24-12-2018) & Aziz Dougaz     & Two-handed & \\$61,984 & ⋯ &  &  &  & NA & NA &  & NA & NA & NA & NA\\\\\n",
       "\\end{tabular}\n"
      ],
      "text/markdown": [
       "\n",
       "A data.frame: 500 × 38\n",
       "\n",
       "| X &lt;int&gt; | Age &lt;chr&gt; | Country &lt;chr&gt; | Plays &lt;chr&gt; | Wikipedia &lt;chr&gt; | Current.Rank &lt;chr&gt; | Best.Rank &lt;chr&gt; | Name &lt;chr&gt; | Backhand &lt;chr&gt; | Prize.Money &lt;chr&gt; | ⋯ ⋯ | Facebook &lt;chr&gt; | Twitter &lt;chr&gt; | Nicknames &lt;chr&gt; | Grand.Slams &lt;int&gt; | Davis.Cups &lt;int&gt; | Web.Site &lt;chr&gt; | Team.Cups &lt;int&gt; | Olympics &lt;int&gt; | Weeks.at.No..1 &lt;int&gt; | Tour.Finals &lt;int&gt; |\n",
       "|---|---|---|---|---|---|---|---|---|---|---|---|---|---|---|---|---|---|---|---|---|\n",
       "| 0 | 26 (25-04-1993) | Brazil         | Right-handed | Wikipedia | 378 (97)  | 363 (04-11-2019) | Oscar Jose Gutierrez | <!----> | <!----> | ⋯ | <!----> | <!----> | <!----> | NA | NA | <!----> | NA | NA | NA | NA |\n",
       "| 1 | 18 (22-12-2001) | United Kingdom | Left-handed  | Wikipedia | 326 (119) | 316 (14-10-2019) | Jack Draper          | Two-handed | $59,040      | ⋯ | <!----> | <!----> | <!----> | NA | NA | <!----> | NA | NA | NA | NA |\n",
       "| 2 | 32 (03-11-1987) | Slovakia       | Right-handed | Wikipedia | 178 (280) | 44 (14-01-2013)  | Lukas Lacko          | Two-handed | US$3,261,567 | ⋯ | <!----> | <!----> | <!----> | NA | NA | <!----> | NA | NA | NA | NA |\n",
       "| ⋮ | ⋮ | ⋮ | ⋮ | ⋮ | ⋮ | ⋮ | ⋮ | ⋮ | ⋮ | ⋱ | ⋮ | ⋮ | ⋮ | ⋮ | ⋮ | ⋮ | ⋮ | ⋮ | ⋮ | ⋮ |\n",
       "| 497 | 23 (14-03-1996) | Netherlands | Left-handed | Wikipedia | 495 (60) | 342 (05-08-2019) | Gijs Brouwer    | <!----> | <!----> | ⋯ | <!----> | <!----> | <!----> | NA | NA | <!----> | NA | NA | NA | NA |\n",
       "| 498 | 24 (17-05-1995) | Ukraine     | <!----> | Wikipedia | 419 (81) | 419 (20-01-2020) | Vladyslav Orlov | <!----> | <!----> | ⋯ | <!----> | <!----> | <!----> | NA | NA | <!----> | NA | NA | NA | NA |\n",
       "| 499 | 22 (26-03-1997) | Tunisia     | Left-handed | Wikipedia | 451 (69) | 408 (24-12-2018) | Aziz Dougaz     | Two-handed | $61,984 | ⋯ | <!----> | <!----> | <!----> | NA | NA | <!----> | NA | NA | NA | NA |\n",
       "\n"
      ],
      "text/plain": [
       "    X   Age             Country        Plays        Wikipedia Current.Rank\n",
       "1   0   26 (25-04-1993) Brazil         Right-handed Wikipedia 378 (97)    \n",
       "2   1   18 (22-12-2001) United Kingdom Left-handed  Wikipedia 326 (119)   \n",
       "3   2   32 (03-11-1987) Slovakia       Right-handed Wikipedia 178 (280)   \n",
       "⋮   ⋮   ⋮               ⋮              ⋮            ⋮         ⋮           \n",
       "498 497 23 (14-03-1996) Netherlands    Left-handed  Wikipedia 495 (60)    \n",
       "499 498 24 (17-05-1995) Ukraine                     Wikipedia 419 (81)    \n",
       "500 499 22 (26-03-1997) Tunisia        Left-handed  Wikipedia 451 (69)    \n",
       "    Best.Rank        Name                 Backhand   Prize.Money  ⋯ Facebook\n",
       "1   363 (04-11-2019) Oscar Jose Gutierrez                         ⋯         \n",
       "2   316 (14-10-2019) Jack Draper          Two-handed $59,040      ⋯         \n",
       "3   44 (14-01-2013)  Lukas Lacko          Two-handed US$3,261,567 ⋯         \n",
       "⋮   ⋮                ⋮                    ⋮          ⋮            ⋱ ⋮       \n",
       "498 342 (05-08-2019) Gijs Brouwer                                 ⋯         \n",
       "499 419 (20-01-2020) Vladyslav Orlov                              ⋯         \n",
       "500 408 (24-12-2018) Aziz Dougaz          Two-handed $61,984      ⋯         \n",
       "    Twitter Nicknames Grand.Slams Davis.Cups Web.Site Team.Cups Olympics\n",
       "1                     NA          NA                  NA        NA      \n",
       "2                     NA          NA                  NA        NA      \n",
       "3                     NA          NA                  NA        NA      \n",
       "⋮   ⋮       ⋮         ⋮           ⋮          ⋮        ⋮         ⋮       \n",
       "498                   NA          NA                  NA        NA      \n",
       "499                   NA          NA                  NA        NA      \n",
       "500                   NA          NA                  NA        NA      \n",
       "    Weeks.at.No..1 Tour.Finals\n",
       "1   NA             NA         \n",
       "2   NA             NA         \n",
       "3   NA             NA         \n",
       "⋮   ⋮              ⋮          \n",
       "498 NA             NA         \n",
       "499 NA             NA         \n",
       "500 NA             NA         "
      ]
     },
     "metadata": {},
     "output_type": "display_data"
    }
   ],
   "source": [
    "table_tennis <- read.csv(\"player_stats.csv\")\n",
    "table_tennis"
   ]
  },
  {
   "cell_type": "markdown",
   "metadata": {},
   "source": [
    "### Answer:\n",
    "The dataset has the player statistics, including their total winnings, current & best rank, and age. There are 37 variables and, 500 observations seen in the dataset."
   ]
  },
  {
   "cell_type": "markdown",
   "metadata": {},
   "source": [
    "# Activity #2: Explore Datasets Part 2 - Outcome Variable\n",
    "\n",
    "### Questions:\n",
    "* Identify the main outcome/categorical/label variable in the dataset.\n",
    "* How many values/groups are in this variable?\n",
    "* How many observations are there in each value/group?"
   ]
  },
  {
   "cell_type": "code",
   "execution_count": 8,
   "metadata": {},
   "outputs": [
    {
     "data": {
      "text/html": [
       "<table>\n",
       "<caption>A data.frame: 500 × 3</caption>\n",
       "<thead>\n",
       "\t<tr><th scope=col>X</th><th scope=col>Name</th><th scope=col>Plays</th></tr>\n",
       "\t<tr><th scope=col>&lt;int&gt;</th><th scope=col>&lt;chr&gt;</th><th scope=col>&lt;chr&gt;</th></tr>\n",
       "</thead>\n",
       "<tbody>\n",
       "\t<tr><td>0</td><td>Oscar Jose Gutierrez</td><td>Right-handed</td></tr>\n",
       "\t<tr><td>1</td><td>Jack Draper         </td><td>Left-handed </td></tr>\n",
       "\t<tr><td>2</td><td>Lukas Lacko         </td><td>Right-handed</td></tr>\n",
       "\t<tr><td>⋮</td><td>⋮</td><td>⋮</td></tr>\n",
       "\t<tr><td>497</td><td>Gijs Brouwer   </td><td>Left-handed</td></tr>\n",
       "\t<tr><td>498</td><td>Vladyslav Orlov</td><td>           </td></tr>\n",
       "\t<tr><td>499</td><td>Aziz Dougaz    </td><td>Left-handed</td></tr>\n",
       "</tbody>\n",
       "</table>\n"
      ],
      "text/latex": [
       "A data.frame: 500 × 3\n",
       "\\begin{tabular}{lll}\n",
       " X & Name & Plays\\\\\n",
       " <int> & <chr> & <chr>\\\\\n",
       "\\hline\n",
       "\t 0 & Oscar Jose Gutierrez & Right-handed\\\\\n",
       "\t 1 & Jack Draper          & Left-handed \\\\\n",
       "\t 2 & Lukas Lacko          & Right-handed\\\\\n",
       "\t ⋮ & ⋮ & ⋮\\\\\n",
       "\t 497 & Gijs Brouwer    & Left-handed\\\\\n",
       "\t 498 & Vladyslav Orlov &            \\\\\n",
       "\t 499 & Aziz Dougaz     & Left-handed\\\\\n",
       "\\end{tabular}\n"
      ],
      "text/markdown": [
       "\n",
       "A data.frame: 500 × 3\n",
       "\n",
       "| X &lt;int&gt; | Name &lt;chr&gt; | Plays &lt;chr&gt; |\n",
       "|---|---|---|\n",
       "| 0 | Oscar Jose Gutierrez | Right-handed |\n",
       "| 1 | Jack Draper          | Left-handed  |\n",
       "| 2 | Lukas Lacko          | Right-handed |\n",
       "| ⋮ | ⋮ | ⋮ |\n",
       "| 497 | Gijs Brouwer    | Left-handed |\n",
       "| 498 | Vladyslav Orlov | <!----> |\n",
       "| 499 | Aziz Dougaz     | Left-handed |\n",
       "\n"
      ],
      "text/plain": [
       "    X   Name                 Plays       \n",
       "1   0   Oscar Jose Gutierrez Right-handed\n",
       "2   1   Jack Draper          Left-handed \n",
       "3   2   Lukas Lacko          Right-handed\n",
       "⋮   ⋮   ⋮                    ⋮           \n",
       "498 497 Gijs Brouwer         Left-handed \n",
       "499 498 Vladyslav Orlov                  \n",
       "500 499 Aziz Dougaz          Left-handed "
      ]
     },
     "metadata": {},
     "output_type": "display_data"
    }
   ],
   "source": [
    "table_tennis_plays <- table_tennis %>% select(X,Name, Plays)\n",
    "table_tennis_plays"
   ]
  },
  {
   "cell_type": "markdown",
   "metadata": {},
   "source": [
    "### Answers:\n",
    "* The main outcome/categorical/label variable would be \"Plays\".\n",
    "* There are two groups in this variable, \"Right-handed\", and \"Left-handed\".\n",
    "* There are 500 observations per group."
   ]
  },
  {
   "cell_type": "markdown",
   "metadata": {},
   "source": [
    "# Activity #3: Explore Datasets Part 3 - Visualisations!"
   ]
  },
  {
   "cell_type": "code",
   "execution_count": 54,
   "metadata": {},
   "outputs": [
    {
     "data": {
      "text/html": [
       "<style>\n",
       ".list-inline {list-style: none; margin:0; padding: 0}\n",
       ".list-inline>li {display: inline-block}\n",
       ".list-inline>li:not(:last-child)::after {content: \"\\00b7\"; padding: 0 .5ex}\n",
       "</style>\n",
       "<ol class=list-inline><li>0</li><li>26</li><li>&lt;NA&gt;</li><li>&lt;NA&gt;</li><li>&lt;NA&gt;</li><li>378</li><li>363</li><li>&lt;NA&gt;</li><li>&lt;NA&gt;</li><li>59040</li><li>185</li><li>40</li><li>2005</li><li>14</li><li>&lt;NA&gt;</li><li>144</li><li>60</li><li>1886</li><li>18</li><li>4</li><li>264</li><li>2015</li><li>2017</li><li>2</li><li>&lt;NA&gt;</li><li>&lt;NA&gt;</li><li>97</li><li>&lt;NA&gt;</li><li>128049253953369</li><li>7</li><li>&lt;NA&gt;</li><li>1</li><li>1</li><li>&lt;NA&gt;</li><li>1</li><li>1</li><li>208</li><li>1</li></ol>\n"
      ],
      "text/latex": [
       "\\begin{enumerate*}\n",
       "\\item 0\n",
       "\\item 26\n",
       "\\item <NA>\n",
       "\\item <NA>\n",
       "\\item <NA>\n",
       "\\item 378\n",
       "\\item 363\n",
       "\\item <NA>\n",
       "\\item <NA>\n",
       "\\item 59040\n",
       "\\item 185\n",
       "\\item 40\n",
       "\\item 2005\n",
       "\\item 14\n",
       "\\item <NA>\n",
       "\\item 144\n",
       "\\item 60\n",
       "\\item 1886\n",
       "\\item 18\n",
       "\\item 4\n",
       "\\item 264\n",
       "\\item 2015\n",
       "\\item 2017\n",
       "\\item 2\n",
       "\\item <NA>\n",
       "\\item <NA>\n",
       "\\item 97\n",
       "\\item <NA>\n",
       "\\item 128049253953369\n",
       "\\item 7\n",
       "\\item <NA>\n",
       "\\item 1\n",
       "\\item 1\n",
       "\\item <NA>\n",
       "\\item 1\n",
       "\\item 1\n",
       "\\item 208\n",
       "\\item 1\n",
       "\\end{enumerate*}\n"
      ],
      "text/markdown": [
       "1. 0\n",
       "2. 26\n",
       "3. &lt;NA&gt;\n",
       "4. &lt;NA&gt;\n",
       "5. &lt;NA&gt;\n",
       "6. 378\n",
       "7. 363\n",
       "8. &lt;NA&gt;\n",
       "9. &lt;NA&gt;\n",
       "10. 59040\n",
       "11. 185\n",
       "12. 40\n",
       "13. 2005\n",
       "14. 14\n",
       "15. &lt;NA&gt;\n",
       "16. 144\n",
       "17. 60\n",
       "18. 1886\n",
       "19. 18\n",
       "20. 4\n",
       "21. 264\n",
       "22. 2015\n",
       "23. 2017\n",
       "24. 2\n",
       "25. &lt;NA&gt;\n",
       "26. &lt;NA&gt;\n",
       "27. 97\n",
       "28. &lt;NA&gt;\n",
       "29. 128049253953369\n",
       "30. 7\n",
       "31. &lt;NA&gt;\n",
       "32. 1\n",
       "33. 1\n",
       "34. &lt;NA&gt;\n",
       "35. 1\n",
       "36. 1\n",
       "37. 208\n",
       "38. 1\n",
       "\n",
       "\n"
      ],
      "text/plain": [
       " [1] 0.000000e+00 2.600000e+01           NA           NA           NA\n",
       " [6] 3.780000e+02 3.630000e+02           NA           NA 5.904000e+04\n",
       "[11] 1.850000e+02 4.000000e+01 2.005000e+03 1.400000e+01           NA\n",
       "[16] 1.440000e+02 6.000000e+01 1.886000e+03 1.800000e+01 4.000000e+00\n",
       "[21] 2.640000e+02 2.015000e+03 2.017000e+03 2.000000e+00           NA\n",
       "[26]           NA 9.700000e+01           NA 1.280493e+14 7.000000e+00\n",
       "[31]           NA 1.000000e+00 1.000000e+00           NA 1.000000e+00\n",
       "[36] 1.000000e+00 2.080000e+02 1.000000e+00"
      ]
     },
     "metadata": {},
     "output_type": "display_data"
    }
   ],
   "source": [
    "library(stringr)\n",
    "\n",
    "# table_tennis <- str_replace_all(string = table_tennis, pattern = \"US$\", replacement = \"\")\n",
    "# ts <- select(table_tennis,Prize.Money)\n",
    "\n",
    "# ts\n",
    "\n",
    "ts <- as.numeric(gsub(\",\",\"\",table_tennis))\n",
    "ts <- as.numeric(gsub(\"$US\",\"\",table_tennis))\n",
    "\n",
    "ts"
   ]
  },
  {
   "cell_type": "code",
   "execution_count": 55,
   "metadata": {},
   "outputs": [
    {
     "ename": "ERROR",
     "evalue": "Error in UseMethod(\"separate_\"): no applicable method for 'separate_' applied to an object of class \"c('double', 'numeric')\"\n",
     "output_type": "error",
     "traceback": [
      "Error in UseMethod(\"separate_\"): no applicable method for 'separate_' applied to an object of class \"c('double', 'numeric')\"\nTraceback:\n",
      "1. separate(table_tennis, col = Prize.Money, into = c(\"waste\", \"Money\"), \n .     sep = \"$\")",
      "2. separate.default(table_tennis, col = Prize.Money, into = c(\"waste\", \n .     \"Money\"), sep = \"$\")",
      "3. separate_(data, col = col, into = into, sep = sep, remove = remove, \n .     convert = convert, extra = extra, fill = fill, ...)"
     ]
    }
   ],
   "source": [
    "table_tennis <- separate(table_tennis,\n",
    "  col = Prize.Money,\n",
    "  into = c(\"waste\", \"Money\"),\n",
    "  sep = \"$\")\n",
    "\n",
    "table_tennis"
   ]
  },
  {
   "cell_type": "code",
   "execution_count": 56,
   "metadata": {},
   "outputs": [
    {
     "ename": "ERROR",
     "evalue": "Error in UseMethod(\"group_by_\"): no applicable method for 'group_by_' applied to an object of class \"c('double', 'numeric')\"\n",
     "output_type": "error",
     "traceback": [
      "Error in UseMethod(\"group_by_\"): no applicable method for 'group_by_' applied to an object of class \"c('double', 'numeric')\"\nTraceback:\n",
      "1. table_tennis %>% group_by(Plays) %>% summarize(n = n())",
      "2. withVisible(eval(quote(`_fseq`(`_lhs`)), env, env))",
      "3. eval(quote(`_fseq`(`_lhs`)), env, env)",
      "4. eval(quote(`_fseq`(`_lhs`)), env, env)",
      "5. `_fseq`(`_lhs`)",
      "6. freduce(value, `_function_list`)",
      "7. function_list[[i]](value)",
      "8. group_by(., Plays)",
      "9. group_by.default(., Plays)",
      "10. group_by_(.data, .dots = compat_as_lazy_dots(...), add = add)"
     ]
    }
   ],
   "source": [
    "plays <- table_tennis %>%\n",
    "group_by(Plays) %>%\n",
    "summarize(n=n())\n",
    "plays"
   ]
  },
  {
   "cell_type": "code",
   "execution_count": 51,
   "metadata": {},
   "outputs": [
    {
     "ename": "ERROR",
     "evalue": "Error in eval(lhs, parent, parent): object 'plays' not found\n",
     "output_type": "error",
     "traceback": [
      "Error in eval(lhs, parent, parent): object 'plays' not found\nTraceback:\n",
      "1. plays %>% ggplot(aes(x = Plays, y = n))",
      "2. eval(lhs, parent, parent)",
      "3. eval(lhs, parent, parent)"
     ]
    }
   ],
   "source": [
    "Play_P <-  plays %>%\n",
    "ggplot(aes(x= Plays,y=n)) +\n",
    "geom_bar(stat=\"identity\", fill=\"steelblue\")+\n",
    "xlab(\"Plays\")+\n",
    "ylab(\"Count\")+\n",
    "ggtitle(\"Plays in top 500 tennis player\")+\n",
    "theme(text = element_text(size=20))\n",
    "Play_P"
   ]
  },
  {
   "cell_type": "code",
   "execution_count": 52,
   "metadata": {},
   "outputs": [
    {
     "ename": "ERROR",
     "evalue": "Error: `data` must be a data frame, or other object coercible by `fortify()`, not a character vector\n",
     "output_type": "error",
     "traceback": [
      "Error: `data` must be a data frame, or other object coercible by `fortify()`, not a character vector\nTraceback:\n",
      "1. table_tennis %>% ggplot(aes(x = Best.Rank, y = Prize.Money))",
      "2. withVisible(eval(quote(`_fseq`(`_lhs`)), env, env))",
      "3. eval(quote(`_fseq`(`_lhs`)), env, env)",
      "4. eval(quote(`_fseq`(`_lhs`)), env, env)",
      "5. `_fseq`(`_lhs`)",
      "6. freduce(value, `_function_list`)",
      "7. withVisible(function_list[[k]](value))",
      "8. function_list[[k]](value)",
      "9. ggplot(., aes(x = Best.Rank, y = Prize.Money))",
      "10. ggplot.default(., aes(x = Best.Rank, y = Prize.Money))",
      "11. fortify(data, ...)",
      "12. fortify.default(data, ...)",
      "13. abort(msg)",
      "14. signal_abort(cnd)"
     ]
    }
   ],
   "source": [
    "BestRan_Price <- table_tennis %>%\n",
    "    ggplot(aes(x=Best.Rank, y=Prize.Money))+\n",
    "    geom_point(aes(colour = Plays)) +\n",
    "    xlab(\"The Best Rank\")+\n",
    "    ylab(\"The Prize Money\")+\n",
    "    labs(colour = \"Plays\", title=\"Best Rank vs Prize Money\")+\n",
    "    theme(text = element_text(size = 20))\n",
    "\n",
    "BestRan_Price"
   ]
  },
  {
   "cell_type": "code",
   "execution_count": null,
   "metadata": {},
   "outputs": [],
   "source": []
  }
 ],
 "metadata": {
  "kernelspec": {
   "display_name": "R",
   "language": "R",
   "name": "ir"
  },
  "language_info": {
   "codemirror_mode": "r",
   "file_extension": ".r",
   "mimetype": "text/x-r-source",
   "name": "R",
   "pygments_lexer": "r",
   "version": "4.0.0"
  }
 },
 "nbformat": 4,
 "nbformat_minor": 4
}
