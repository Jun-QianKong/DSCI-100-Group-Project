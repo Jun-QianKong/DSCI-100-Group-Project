{
 "cells": [
  {
   "cell_type": "code",
   "execution_count": 3,
   "metadata": {},
   "outputs": [
    {
     "name": "stderr",
     "output_type": "stream",
     "text": [
      "── \u001b[1mAttaching packages\u001b[22m ─────────────────────────────────────── tidyverse 1.3.0 ──\n",
      "\n",
      "\u001b[32m✔\u001b[39m \u001b[34mggplot2\u001b[39m 3.3.2     \u001b[32m✔\u001b[39m \u001b[34mpurrr  \u001b[39m 0.3.4\n",
      "\u001b[32m✔\u001b[39m \u001b[34mtibble \u001b[39m 3.0.3     \u001b[32m✔\u001b[39m \u001b[34mdplyr  \u001b[39m 1.0.2\n",
      "\u001b[32m✔\u001b[39m \u001b[34mtidyr  \u001b[39m 1.1.2     \u001b[32m✔\u001b[39m \u001b[34mstringr\u001b[39m 1.4.0\n",
      "\u001b[32m✔\u001b[39m \u001b[34mreadr  \u001b[39m 1.3.1     \u001b[32m✔\u001b[39m \u001b[34mforcats\u001b[39m 0.5.0\n",
      "\n",
      "Warning message:\n",
      "“package ‘ggplot2’ was built under R version 4.0.1”\n",
      "Warning message:\n",
      "“package ‘tibble’ was built under R version 4.0.2”\n",
      "Warning message:\n",
      "“package ‘tidyr’ was built under R version 4.0.2”\n",
      "Warning message:\n",
      "“package ‘dplyr’ was built under R version 4.0.2”\n",
      "── \u001b[1mConflicts\u001b[22m ────────────────────────────────────────── tidyverse_conflicts() ──\n",
      "\u001b[31m✖\u001b[39m \u001b[34mdplyr\u001b[39m::\u001b[32mfilter()\u001b[39m masks \u001b[34mstats\u001b[39m::filter()\n",
      "\u001b[31m✖\u001b[39m \u001b[34mdplyr\u001b[39m::\u001b[32mlag()\u001b[39m    masks \u001b[34mstats\u001b[39m::lag()\n",
      "\n"
     ]
    }
   ],
   "source": [
    "library(tidyverse)\n",
    "library(repr)\n",
    "options(repr.matrix.max.rows = 6)"
   ]
  },
  {
   "cell_type": "code",
   "execution_count": 4,
   "metadata": {},
   "outputs": [
    {
     "data": {
      "text/html": [
       "<table>\n",
       "<caption>A data.frame: 500 × 38</caption>\n",
       "<thead>\n",
       "\t<tr><th scope=col>X</th><th scope=col>Age</th><th scope=col>Country</th><th scope=col>Plays</th><th scope=col>Wikipedia</th><th scope=col>Current.Rank</th><th scope=col>Best.Rank</th><th scope=col>Name</th><th scope=col>Backhand</th><th scope=col>Prize.Money</th><th scope=col>⋯</th><th scope=col>Facebook</th><th scope=col>Twitter</th><th scope=col>Nicknames</th><th scope=col>Grand.Slams</th><th scope=col>Davis.Cups</th><th scope=col>Web.Site</th><th scope=col>Team.Cups</th><th scope=col>Olympics</th><th scope=col>Weeks.at.No..1</th><th scope=col>Tour.Finals</th></tr>\n",
       "\t<tr><th scope=col>&lt;int&gt;</th><th scope=col>&lt;chr&gt;</th><th scope=col>&lt;chr&gt;</th><th scope=col>&lt;chr&gt;</th><th scope=col>&lt;chr&gt;</th><th scope=col>&lt;chr&gt;</th><th scope=col>&lt;chr&gt;</th><th scope=col>&lt;chr&gt;</th><th scope=col>&lt;chr&gt;</th><th scope=col>&lt;chr&gt;</th><th scope=col>⋯</th><th scope=col>&lt;chr&gt;</th><th scope=col>&lt;chr&gt;</th><th scope=col>&lt;chr&gt;</th><th scope=col>&lt;int&gt;</th><th scope=col>&lt;int&gt;</th><th scope=col>&lt;chr&gt;</th><th scope=col>&lt;int&gt;</th><th scope=col>&lt;int&gt;</th><th scope=col>&lt;int&gt;</th><th scope=col>&lt;int&gt;</th></tr>\n",
       "</thead>\n",
       "<tbody>\n",
       "\t<tr><td>0</td><td>26 (25-04-1993)</td><td>Brazil        </td><td>Right-handed</td><td>Wikipedia</td><td>378 (97) </td><td>363 (04-11-2019)</td><td>Oscar Jose Gutierrez</td><td>          </td><td>            </td><td>⋯</td><td></td><td></td><td></td><td>NA</td><td>NA</td><td></td><td>NA</td><td>NA</td><td>NA</td><td>NA</td></tr>\n",
       "\t<tr><td>1</td><td>18 (22-12-2001)</td><td>United Kingdom</td><td>Left-handed </td><td>Wikipedia</td><td>326 (119)</td><td>316 (14-10-2019)</td><td>Jack Draper         </td><td>Two-handed</td><td>$59,040     </td><td>⋯</td><td></td><td></td><td></td><td>NA</td><td>NA</td><td></td><td>NA</td><td>NA</td><td>NA</td><td>NA</td></tr>\n",
       "\t<tr><td>2</td><td>32 (03-11-1987)</td><td>Slovakia      </td><td>Right-handed</td><td>Wikipedia</td><td>178 (280)</td><td>44 (14-01-2013) </td><td>Lukas Lacko         </td><td>Two-handed</td><td>US$3,261,567</td><td>⋯</td><td></td><td></td><td></td><td>NA</td><td>NA</td><td></td><td>NA</td><td>NA</td><td>NA</td><td>NA</td></tr>\n",
       "\t<tr><td>⋮</td><td>⋮</td><td>⋮</td><td>⋮</td><td>⋮</td><td>⋮</td><td>⋮</td><td>⋮</td><td>⋮</td><td>⋮</td><td>⋱</td><td>⋮</td><td>⋮</td><td>⋮</td><td>⋮</td><td>⋮</td><td>⋮</td><td>⋮</td><td>⋮</td><td>⋮</td><td>⋮</td></tr>\n",
       "\t<tr><td>497</td><td>23 (14-03-1996)</td><td>Netherlands</td><td>Left-handed</td><td>Wikipedia</td><td>495 (60)</td><td>342 (05-08-2019)</td><td>Gijs Brouwer   </td><td>          </td><td>       </td><td>⋯</td><td></td><td></td><td></td><td>NA</td><td>NA</td><td></td><td>NA</td><td>NA</td><td>NA</td><td>NA</td></tr>\n",
       "\t<tr><td>498</td><td>24 (17-05-1995)</td><td>Ukraine    </td><td>           </td><td>Wikipedia</td><td>419 (81)</td><td>419 (20-01-2020)</td><td>Vladyslav Orlov</td><td>          </td><td>       </td><td>⋯</td><td></td><td></td><td></td><td>NA</td><td>NA</td><td></td><td>NA</td><td>NA</td><td>NA</td><td>NA</td></tr>\n",
       "\t<tr><td>499</td><td>22 (26-03-1997)</td><td>Tunisia    </td><td>Left-handed</td><td>Wikipedia</td><td>451 (69)</td><td>408 (24-12-2018)</td><td>Aziz Dougaz    </td><td>Two-handed</td><td>$61,984</td><td>⋯</td><td></td><td></td><td></td><td>NA</td><td>NA</td><td></td><td>NA</td><td>NA</td><td>NA</td><td>NA</td></tr>\n",
       "</tbody>\n",
       "</table>\n"
      ],
      "text/latex": [
       "A data.frame: 500 × 38\n",
       "\\begin{tabular}{lllllllllllllllllllll}\n",
       " X & Age & Country & Plays & Wikipedia & Current.Rank & Best.Rank & Name & Backhand & Prize.Money & ⋯ & Facebook & Twitter & Nicknames & Grand.Slams & Davis.Cups & Web.Site & Team.Cups & Olympics & Weeks.at.No..1 & Tour.Finals\\\\\n",
       " <int> & <chr> & <chr> & <chr> & <chr> & <chr> & <chr> & <chr> & <chr> & <chr> & ⋯ & <chr> & <chr> & <chr> & <int> & <int> & <chr> & <int> & <int> & <int> & <int>\\\\\n",
       "\\hline\n",
       "\t 0 & 26 (25-04-1993) & Brazil         & Right-handed & Wikipedia & 378 (97)  & 363 (04-11-2019) & Oscar Jose Gutierrez &            &              & ⋯ &  &  &  & NA & NA &  & NA & NA & NA & NA\\\\\n",
       "\t 1 & 18 (22-12-2001) & United Kingdom & Left-handed  & Wikipedia & 326 (119) & 316 (14-10-2019) & Jack Draper          & Two-handed & \\$59,040      & ⋯ &  &  &  & NA & NA &  & NA & NA & NA & NA\\\\\n",
       "\t 2 & 32 (03-11-1987) & Slovakia       & Right-handed & Wikipedia & 178 (280) & 44 (14-01-2013)  & Lukas Lacko          & Two-handed & US\\$3,261,567 & ⋯ &  &  &  & NA & NA &  & NA & NA & NA & NA\\\\\n",
       "\t ⋮ & ⋮ & ⋮ & ⋮ & ⋮ & ⋮ & ⋮ & ⋮ & ⋮ & ⋮ & ⋱ & ⋮ & ⋮ & ⋮ & ⋮ & ⋮ & ⋮ & ⋮ & ⋮ & ⋮ & ⋮\\\\\n",
       "\t 497 & 23 (14-03-1996) & Netherlands & Left-handed & Wikipedia & 495 (60) & 342 (05-08-2019) & Gijs Brouwer    &            &         & ⋯ &  &  &  & NA & NA &  & NA & NA & NA & NA\\\\\n",
       "\t 498 & 24 (17-05-1995) & Ukraine     &             & Wikipedia & 419 (81) & 419 (20-01-2020) & Vladyslav Orlov &            &         & ⋯ &  &  &  & NA & NA &  & NA & NA & NA & NA\\\\\n",
       "\t 499 & 22 (26-03-1997) & Tunisia     & Left-handed & Wikipedia & 451 (69) & 408 (24-12-2018) & Aziz Dougaz     & Two-handed & \\$61,984 & ⋯ &  &  &  & NA & NA &  & NA & NA & NA & NA\\\\\n",
       "\\end{tabular}\n"
      ],
      "text/markdown": [
       "\n",
       "A data.frame: 500 × 38\n",
       "\n",
       "| X &lt;int&gt; | Age &lt;chr&gt; | Country &lt;chr&gt; | Plays &lt;chr&gt; | Wikipedia &lt;chr&gt; | Current.Rank &lt;chr&gt; | Best.Rank &lt;chr&gt; | Name &lt;chr&gt; | Backhand &lt;chr&gt; | Prize.Money &lt;chr&gt; | ⋯ ⋯ | Facebook &lt;chr&gt; | Twitter &lt;chr&gt; | Nicknames &lt;chr&gt; | Grand.Slams &lt;int&gt; | Davis.Cups &lt;int&gt; | Web.Site &lt;chr&gt; | Team.Cups &lt;int&gt; | Olympics &lt;int&gt; | Weeks.at.No..1 &lt;int&gt; | Tour.Finals &lt;int&gt; |\n",
       "|---|---|---|---|---|---|---|---|---|---|---|---|---|---|---|---|---|---|---|---|---|\n",
       "| 0 | 26 (25-04-1993) | Brazil         | Right-handed | Wikipedia | 378 (97)  | 363 (04-11-2019) | Oscar Jose Gutierrez | <!----> | <!----> | ⋯ | <!----> | <!----> | <!----> | NA | NA | <!----> | NA | NA | NA | NA |\n",
       "| 1 | 18 (22-12-2001) | United Kingdom | Left-handed  | Wikipedia | 326 (119) | 316 (14-10-2019) | Jack Draper          | Two-handed | $59,040      | ⋯ | <!----> | <!----> | <!----> | NA | NA | <!----> | NA | NA | NA | NA |\n",
       "| 2 | 32 (03-11-1987) | Slovakia       | Right-handed | Wikipedia | 178 (280) | 44 (14-01-2013)  | Lukas Lacko          | Two-handed | US$3,261,567 | ⋯ | <!----> | <!----> | <!----> | NA | NA | <!----> | NA | NA | NA | NA |\n",
       "| ⋮ | ⋮ | ⋮ | ⋮ | ⋮ | ⋮ | ⋮ | ⋮ | ⋮ | ⋮ | ⋱ | ⋮ | ⋮ | ⋮ | ⋮ | ⋮ | ⋮ | ⋮ | ⋮ | ⋮ | ⋮ |\n",
       "| 497 | 23 (14-03-1996) | Netherlands | Left-handed | Wikipedia | 495 (60) | 342 (05-08-2019) | Gijs Brouwer    | <!----> | <!----> | ⋯ | <!----> | <!----> | <!----> | NA | NA | <!----> | NA | NA | NA | NA |\n",
       "| 498 | 24 (17-05-1995) | Ukraine     | <!----> | Wikipedia | 419 (81) | 419 (20-01-2020) | Vladyslav Orlov | <!----> | <!----> | ⋯ | <!----> | <!----> | <!----> | NA | NA | <!----> | NA | NA | NA | NA |\n",
       "| 499 | 22 (26-03-1997) | Tunisia     | Left-handed | Wikipedia | 451 (69) | 408 (24-12-2018) | Aziz Dougaz     | Two-handed | $61,984 | ⋯ | <!----> | <!----> | <!----> | NA | NA | <!----> | NA | NA | NA | NA |\n",
       "\n"
      ],
      "text/plain": [
       "    X   Age             Country        Plays        Wikipedia Current.Rank\n",
       "1   0   26 (25-04-1993) Brazil         Right-handed Wikipedia 378 (97)    \n",
       "2   1   18 (22-12-2001) United Kingdom Left-handed  Wikipedia 326 (119)   \n",
       "3   2   32 (03-11-1987) Slovakia       Right-handed Wikipedia 178 (280)   \n",
       "⋮   ⋮   ⋮               ⋮              ⋮            ⋮         ⋮           \n",
       "498 497 23 (14-03-1996) Netherlands    Left-handed  Wikipedia 495 (60)    \n",
       "499 498 24 (17-05-1995) Ukraine                     Wikipedia 419 (81)    \n",
       "500 499 22 (26-03-1997) Tunisia        Left-handed  Wikipedia 451 (69)    \n",
       "    Best.Rank        Name                 Backhand   Prize.Money  ⋯ Facebook\n",
       "1   363 (04-11-2019) Oscar Jose Gutierrez                         ⋯         \n",
       "2   316 (14-10-2019) Jack Draper          Two-handed $59,040      ⋯         \n",
       "3   44 (14-01-2013)  Lukas Lacko          Two-handed US$3,261,567 ⋯         \n",
       "⋮   ⋮                ⋮                    ⋮          ⋮            ⋱ ⋮       \n",
       "498 342 (05-08-2019) Gijs Brouwer                                 ⋯         \n",
       "499 419 (20-01-2020) Vladyslav Orlov                              ⋯         \n",
       "500 408 (24-12-2018) Aziz Dougaz          Two-handed $61,984      ⋯         \n",
       "    Twitter Nicknames Grand.Slams Davis.Cups Web.Site Team.Cups Olympics\n",
       "1                     NA          NA                  NA        NA      \n",
       "2                     NA          NA                  NA        NA      \n",
       "3                     NA          NA                  NA        NA      \n",
       "⋮   ⋮       ⋮         ⋮           ⋮          ⋮        ⋮         ⋮       \n",
       "498                   NA          NA                  NA        NA      \n",
       "499                   NA          NA                  NA        NA      \n",
       "500                   NA          NA                  NA        NA      \n",
       "    Weeks.at.No..1 Tour.Finals\n",
       "1   NA             NA         \n",
       "2   NA             NA         \n",
       "3   NA             NA         \n",
       "⋮   ⋮              ⋮          \n",
       "498 NA             NA         \n",
       "499 NA             NA         \n",
       "500 NA             NA         "
      ]
     },
     "metadata": {},
     "output_type": "display_data"
    }
   ],
   "source": [
    "table_tennis <- read.csv(\"player_stats.csv\")\n",
    "table_tennis"
   ]
  },
  {
   "cell_type": "markdown",
   "metadata": {},
   "source": [
    "\n",
    "The dataset has the player statistics, including their total winnings, current & best rank, and age. There are 37 variables and, 500 observations seen in the dataset."
   ]
  },
  {
   "cell_type": "code",
   "execution_count": 8,
   "metadata": {},
   "outputs": [
    {
     "data": {
      "text/html": [
       "<table>\n",
       "<caption>A data.frame: 282 × 4</caption>\n",
       "<thead>\n",
       "\t<tr><th scope=col>Age</th><th scope=col>Current.Rank</th><th scope=col>Best.Rank</th><th scope=col>Name</th></tr>\n",
       "\t<tr><th scope=col>&lt;chr&gt;</th><th scope=col>&lt;chr&gt;</th><th scope=col>&lt;chr&gt;</th><th scope=col>&lt;chr&gt;</th></tr>\n",
       "</thead>\n",
       "<tbody>\n",
       "\t<tr><td>32 (03-11-1987)</td><td>178 (280)</td><td>44 (14-01-2013) </td><td>Lukas Lacko  </td></tr>\n",
       "\t<tr><td>21 (29-05-1998)</td><td>236 (199)</td><td>130 (10-04-2017)</td><td>Duck Hee Lee </td></tr>\n",
       "\t<tr><td>27 (21-10-1992)</td><td>183 (273)</td><td>17 (11-01-2016) </td><td>Bernard Tomic</td></tr>\n",
       "\t<tr><td>⋮</td><td>⋮</td><td>⋮</td><td>⋮</td></tr>\n",
       "\t<tr><td>26 (28-07-1993)</td><td>324 (120)</td><td>249 (24-12-2018)</td><td>Dimitar Kuzmanov</td></tr>\n",
       "\t<tr><td>20 (31-01-1999)</td><td>397 (89) </td><td>394 (18-11-2019)</td><td>Artem Dubrivnyy </td></tr>\n",
       "\t<tr><td>26 (03-09-1993)</td><td>5 (5890) </td><td>4 (06-11-2017)  </td><td>Dominic Thiem   </td></tr>\n",
       "</tbody>\n",
       "</table>\n"
      ],
      "text/latex": [
       "A data.frame: 282 × 4\n",
       "\\begin{tabular}{llll}\n",
       " Age & Current.Rank & Best.Rank & Name\\\\\n",
       " <chr> & <chr> & <chr> & <chr>\\\\\n",
       "\\hline\n",
       "\t 32 (03-11-1987) & 178 (280) & 44 (14-01-2013)  & Lukas Lacko  \\\\\n",
       "\t 21 (29-05-1998) & 236 (199) & 130 (10-04-2017) & Duck Hee Lee \\\\\n",
       "\t 27 (21-10-1992) & 183 (273) & 17 (11-01-2016)  & Bernard Tomic\\\\\n",
       "\t ⋮ & ⋮ & ⋮ & ⋮\\\\\n",
       "\t 26 (28-07-1993) & 324 (120) & 249 (24-12-2018) & Dimitar Kuzmanov\\\\\n",
       "\t 20 (31-01-1999) & 397 (89)  & 394 (18-11-2019) & Artem Dubrivnyy \\\\\n",
       "\t 26 (03-09-1993) & 5 (5890)  & 4 (06-11-2017)   & Dominic Thiem   \\\\\n",
       "\\end{tabular}\n"
      ],
      "text/markdown": [
       "\n",
       "A data.frame: 282 × 4\n",
       "\n",
       "| Age &lt;chr&gt; | Current.Rank &lt;chr&gt; | Best.Rank &lt;chr&gt; | Name &lt;chr&gt; |\n",
       "|---|---|---|---|\n",
       "| 32 (03-11-1987) | 178 (280) | 44 (14-01-2013)  | Lukas Lacko   |\n",
       "| 21 (29-05-1998) | 236 (199) | 130 (10-04-2017) | Duck Hee Lee  |\n",
       "| 27 (21-10-1992) | 183 (273) | 17 (11-01-2016)  | Bernard Tomic |\n",
       "| ⋮ | ⋮ | ⋮ | ⋮ |\n",
       "| 26 (28-07-1993) | 324 (120) | 249 (24-12-2018) | Dimitar Kuzmanov |\n",
       "| 20 (31-01-1999) | 397 (89)  | 394 (18-11-2019) | Artem Dubrivnyy  |\n",
       "| 26 (03-09-1993) | 5 (5890)  | 4 (06-11-2017)   | Dominic Thiem    |\n",
       "\n"
      ],
      "text/plain": [
       "    Age             Current.Rank Best.Rank        Name            \n",
       "1   32 (03-11-1987) 178 (280)    44 (14-01-2013)  Lukas Lacko     \n",
       "2   21 (29-05-1998) 236 (199)    130 (10-04-2017) Duck Hee Lee    \n",
       "3   27 (21-10-1992) 183 (273)    17 (11-01-2016)  Bernard Tomic   \n",
       "⋮   ⋮               ⋮            ⋮                ⋮               \n",
       "280 26 (28-07-1993) 324 (120)    249 (24-12-2018) Dimitar Kuzmanov\n",
       "281 20 (31-01-1999) 397 (89)     394 (18-11-2019) Artem Dubrivnyy \n",
       "282 26 (03-09-1993) 5 (5890)     4 (06-11-2017)   Dominic Thiem   "
      ]
     },
     "metadata": {},
     "output_type": "display_data"
    }
   ],
   "source": [
    "table_tennis_categorical <- filter(table_tennis, Active == \"Yes\") %>%\n",
    "                            select(Age, Current.Rank, Best.Rank, Name)\n",
    "table_tennis_categorical"
   ]
  },
  {
   "cell_type": "markdown",
   "metadata": {},
   "source": [
    "The main outcome/categorical/label variable would be, \"Current and Best Rank of Active Tennis players with Age\"."
   ]
  },
  {
   "cell_type": "markdown",
   "metadata": {},
   "source": [
    "There would be four different values/groups in this variable including the Age, Name, Current.Rank, and Best.Rank."
   ]
  },
  {
   "cell_type": "markdown",
   "metadata": {},
   "source": [
    "There are 496 observations per group."
   ]
  }
 ],
 "metadata": {
  "kernelspec": {
   "display_name": "R",
   "language": "R",
   "name": "ir"
  },
  "language_info": {
   "codemirror_mode": "r",
   "file_extension": ".r",
   "mimetype": "text/x-r-source",
   "name": "R",
   "pygments_lexer": "r",
   "version": "4.0.0"
  }
 },
 "nbformat": 4,
 "nbformat_minor": 4
}
